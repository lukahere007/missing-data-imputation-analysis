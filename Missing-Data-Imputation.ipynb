{
 "cells": [
  {
   "cell_type": "markdown",
   "id": "30184211-ef17-4774-94dc-2c96d08b1a33",
   "metadata": {},
   "source": [
    "# Import Required Libraries    "
   ]
  },
  {
   "cell_type": "code",
   "execution_count": 35,
   "id": "59627ede-00b3-4c39-944c-3c9490270915",
   "metadata": {},
   "outputs": [],
   "source": [
    "import numpy as np\n",
    "import pandas as pd\n",
    "import random\n",
    "import math\n",
    "import matplotlib.pyplot as plt\n",
    "import seaborn as sns\n",
    "import statsmodels.formula.api as smf\n",
    "import statsmodels.api as sm\n",
    "\n"
   ]
  },
  {
   "cell_type": "markdown",
   "id": "0ed15d24-8362-48e4-859a-c87ca775ac4d",
   "metadata": {},
   "source": [
    "# 1. Simulate complete dataset with predictors"
   ]
  },
  {
   "cell_type": "code",
   "execution_count": 36,
   "id": "52068c35-085c-467f-9203-852a60fb24eb",
   "metadata": {},
   "outputs": [],
   "source": [
    "def sim_dat(n=500, npred=2, seed=1):\n",
    "    np.random.seed(seed)\n",
    "    mu = [0] * (npred + 1)\n",
    "    Sigma = np.ones((npred + 1, npred + 1)) * 0.5\n",
    "    np.fill_diagonal(Sigma, 1.5)\n",
    "    dat = np.random.multivariate_normal(mu, Sigma, n)\n",
    "    colnames = ['y'] + [f'x{i}' for i in range(1, npred + 1)]\n",
    "    return pd.DataFrame(dat, columns=colnames)"
   ]
  },
  {
   "cell_type": "markdown",
   "id": "3c4c38df-e932-4913-8e00-e940da08e96c",
   "metadata": {},
   "source": [
    "# 2. Introduce MCAR Missingness"
   ]
  },
  {
   "cell_type": "code",
   "execution_count": 37,
   "id": "6ace2677-77fd-4964-a330-794d8307c557",
   "metadata": {},
   "outputs": [],
   "source": [
    "def sim_mcar(dat, p=0.2, seed=1):\n",
    "    random.seed(seed)\n",
    "    dat = dat.copy()\n",
    "    dat['y_missing'] = dat['y']\n",
    "    missing = random.sample(range(len(dat)), int(len(dat) * p))\n",
    "    dat.loc[missing, 'y_missing'] = np.nan\n",
    "    return dat"
   ]
  },
  {
   "cell_type": "markdown",
   "id": "1f28bfe5-e148-4ea6-a539-2e03b7bfb1da",
   "metadata": {},
   "source": [
    "# 3. Introduce MAR Missingness"
   ]
  },
  {
   "cell_type": "code",
   "execution_count": 38,
   "id": "27301117-4b95-4912-b7b3-73c917e8597b",
   "metadata": {},
   "outputs": [],
   "source": [
    "def sim_mar(dat, p=0.2, seed=1):\n",
    "    np.random.seed(seed)\n",
    "    dat = dat.copy()\n",
    "    dat['y_missing'] = dat['y']\n",
    "    ordering = np.argsort(dat['x1'] + np.random.normal(size=len(dat)))\n",
    "    selected = dat.iloc[ordering[:int(p * len(dat))]]\n",
    "    dat.loc[selected.index, 'y_missing'] = np.nan\n",
    "    return dat"
   ]
  },
  {
   "cell_type": "markdown",
   "id": "19d764fe-205b-49ad-87b6-ef51d8afd283",
   "metadata": {},
   "source": [
    "# Generate complete data"
   ]
  },
  {
   "cell_type": "code",
   "execution_count": 39,
   "id": "b16ddcaa-b357-4d04-a485-e282f80bb185",
   "metadata": {},
   "outputs": [],
   "source": [
    "dat_full = sim_dat()"
   ]
  },
  {
   "cell_type": "markdown",
   "id": "107badcb-8225-4790-aeae-6cb137f60c9b",
   "metadata": {},
   "source": [
    "# 4. Handle MCAR with Mean Impute"
   ]
  },
  {
   "cell_type": "code",
   "execution_count": 40,
   "id": "ac297f14-5350-4da5-9386-f456834646f7",
   "metadata": {},
   "outputs": [],
   "source": [
    "dat_mcar = sim_mcar(dat_full, p=0.2, seed=1)\n",
    "dat_mcar['y_imputed_mean'] = dat_mcar['y_missing'].copy()\n",
    "dat_mcar['y_imputed_mean'] = dat_mcar['y_imputed_mean'].fillna(dat_mcar['y_missing'].mean())"
   ]
  },
  {
   "cell_type": "markdown",
   "id": "5b0bb045-2bb5-49ef-88a1-ab606b16b607",
   "metadata": {},
   "source": [
    "# Handle MCAR with Regression Impute"
   ]
  },
  {
   "cell_type": "code",
   "execution_count": 41,
   "id": "206c9895-b538-4aa1-81ab-45758ec63472",
   "metadata": {},
   "outputs": [],
   "source": [
    "\n",
    "model_reg_mcar = smf.ols('y_missing ~ x1 + x2', data=dat_mcar).fit()\n",
    "preds_mcar = model_reg_mcar.predict(dat_mcar[['x1', 'x2']])\n",
    "\n",
    "dat_mcar['y_imputed_reg'] = dat_mcar['y_missing'].copy()\n",
    "missing_mcar = dat_mcar['y_missing'].isna()\n",
    "dat_mcar.loc[missing_mcar, 'y_imputed_reg'] = preds_mcar[missing_mcar]\n"
   ]
  },
  {
   "cell_type": "markdown",
   "id": "67a26e0a-f095-4b8c-860f-3c8e2b52c3e5",
   "metadata": {},
   "source": [
    "# 5. Handle MAR with Regression"
   ]
  },
  {
   "cell_type": "code",
   "execution_count": 42,
   "id": "129c050d-ce67-4b5b-a8d9-e16ebc44826f",
   "metadata": {},
   "outputs": [
    {
     "name": "stderr",
     "output_type": "stream",
     "text": [
      "C:\\Users\\lukew\\AppData\\Local\\Temp\\ipykernel_31364\\861973567.py:12: FutureWarning: A value is trying to be set on a copy of a DataFrame or Series through chained assignment using an inplace method.\n",
      "The behavior will change in pandas 3.0. This inplace method will never work because the intermediate object on which we are setting values always behaves as a copy.\n",
      "\n",
      "For example, when doing 'df[col].method(value, inplace=True)', try using 'df.method({col: value}, inplace=True)' or df[col] = df[col].method(value) instead, to perform the operation inplace on the original object.\n",
      "\n",
      "\n",
      "  dat_mar['y_imputed_mean'].fillna(dat_mar['y_missing'].mean(), inplace=True)\n"
     ]
    }
   ],
   "source": [
    "dat_mar = sim_mar(dat_full, p=0.2, seed=1)\n",
    "\n",
    "# Regression Imputation\n",
    "model_reg = smf.ols('y_missing ~ x1 + x2', data=dat_mar).fit()\n",
    "preds = model_reg.predict(dat_mar[['x1', 'x2']])\n",
    "dat_mar['y_imputed_reg'] = dat_mar['y_missing'].copy()\n",
    "missing = dat_mar['y_missing'].isna()\n",
    "dat_mar.loc[missing, 'y_imputed_reg'] = preds[missing]\n",
    "\n",
    "# Mean Imputation\n",
    "dat_mar['y_imputed_mean'] = dat_mar['y_missing'].copy()\n",
    "dat_mar['y_imputed_mean'].fillna(dat_mar['y_missing'].mean(), inplace=True)\n"
   ]
  },
  {
   "cell_type": "markdown",
   "id": "35bc2abc-078d-4315-bdce-095bf552f8b2",
   "metadata": {},
   "source": [
    "# 6. Fit Linear Models to All Variations"
   ]
  },
  {
   "cell_type": "code",
   "execution_count": 43,
   "id": "46840573-fdcb-4ce6-b20a-9b3844abd047",
   "metadata": {},
   "outputs": [],
   "source": [
    "models = {\n",
    "    'Full': smf.ols('y ~ x1 + x2', data=dat_full).fit(),\n",
    "    'MCAR_Missing': smf.ols('y_missing ~ x1 + x2', data=dat_mcar.dropna()).fit(),\n",
    "    'MCAR_MeanImputed': smf.ols('y_imputed_mean ~ x1 + x2', data=dat_mcar).fit(),\n",
    "    'MCAR_RegImputed': smf.ols('y_imputed_reg ~ x1 + x2', data=dat_mcar).fit(),\n",
    "    'MAR_Missing': smf.ols('y_missing ~ x1 + x2', data=dat_mar.dropna()).fit(),\n",
    "    'MAR_MeanImputed': smf.ols('y_imputed_mean ~ x1 + x2', data=dat_mar).fit(),\n",
    "    'MAR_RegImputed': smf.ols('y_imputed_reg ~ x1 + x2', data=dat_mar).fit()\n",
    "}\n"
   ]
  },
  {
   "cell_type": "markdown",
   "id": "2b3e9d57-097b-428b-9ee3-41ed3455eb32",
   "metadata": {},
   "source": [
    "# 7. Compile Coefficients for Compare"
   ]
  },
  {
   "cell_type": "code",
   "execution_count": 47,
   "id": "01cff293-6868-4b25-b145-f1cfc3af9f74",
   "metadata": {},
   "outputs": [
    {
     "name": "stdout",
     "output_type": "stream",
     "text": [
      "              Model  x1_Coeff  x2_Coeff\n",
      "0              Full  0.226814  0.225022\n",
      "1      MCAR_Missing  0.236689  0.245410\n",
      "2  MCAR_MeanImputed  0.179993  0.196507\n",
      "3   MCAR_RegImputed  0.236689  0.245410\n",
      "4       MAR_Missing  0.230363  0.241123\n",
      "5   MAR_MeanImputed  0.127342  0.169304\n",
      "6    MAR_RegImputed  0.230363  0.241123\n"
     ]
    }
   ],
   "source": [
    "summary_df = pd.DataFrame({\n",
    "    'Model': [],\n",
    "    'x1_Coeff': [],\n",
    "    'x2_Coeff': []\n",
    "})\n",
    "\n",
    "for name, model in models.items():\n",
    "    summary_df = pd.concat([summary_df, pd.DataFrame({\n",
    "        'Model': [name],\n",
    "        'x1_Coeff': [model.params.get('x1')],\n",
    "        'x2_Coeff': [model.params.get('x2')]\n",
    "    })], ignore_index=True)\n",
    "\n",
    "summary_df['Model'] = pd.Categorical(summary_df['Model'], categories=[\n",
    "    'Full',\n",
    "    'MCAR_Missing', 'MCAR_MeanImputed', 'MCAR_RegImputed',\n",
    "    'MAR_Missing', 'MAR_MeanImputed', 'MAR_RegImputed'\n",
    "], ordered=True)\n",
    "\n",
    "summary_df = summary_df.sort_values('Model')\n",
    "print(summary_df)"
   ]
  },
  {
   "cell_type": "markdown",
   "id": "b34f376e-3033-4ebc-83e7-dd9695155593",
   "metadata": {},
   "source": [
    "# 8. Plotting MCAR vs Full Coefficients"
   ]
  },
  {
   "cell_type": "code",
   "execution_count": 45,
   "id": "2eecdc5d-0b94-4494-8956-db056f6a27b0",
   "metadata": {},
   "outputs": [
    {
     "data": {
      "image/png": "[encoded data removed]",
      "text/plain": [
       "<Figure size 1200x600 with 1 Axes>"
      ]
     },
     "metadata": {},
     "output_type": "display_data"
    }
   ],
   "source": [
    "\n",
    "plot_data = summary_df.melt(\n",
    "    id_vars='Model', value_vars=['x1_Coeff', 'x2_Coeff'],\n",
    "    var_name='Predictor', value_name='Coefficient'\n",
    ")\n",
    "\n",
    "# Plot all in one figure\n",
    "plt.figure(figsize=(12, 6))\n",
    "sns.barplot(data=plot_data, x='Model', y='Coefficient', hue='Predictor')\n",
    "plt.title(\"Coefficient Estimates Across Missing Data Methods\")\n",
    "plt.axhline(0, color='gray', linestyle='--')\n",
    "plt.xticks(rotation=45)\n",
    "plt.tight_layout()\n",
    "plt.show()\n"
   ]
  },
  {
   "cell_type": "markdown",
   "id": "b8b687a0-f3c9-4372-acf2-e308c35075c1",
   "metadata": {},
   "source": [
    "# Conclusion\n",
    "The coefficient summary table confirms and reinforces the visual findings: mean imputation consistently produces the most biased estimates across both MCAR and MAR conditions. In the full model, the coefficients for x1 and x2 are approximately 0.227 and 0.225, respectively, serving as the benchmark. Under MCAR, listwise deletion (MCAR_Missing) and regression imputation (MCAR_RegImputed) both yield nearly identical coefficients to the full model, suggesting minimal bias when data is missing completely at random and appropriately handled. However, mean imputation (MCAR_MeanImputed) underestimates both x1 (0.180) and x2 (0.197), confirming its tendency to dampen true signal due to variance suppression.\n",
    "\n",
    "The distortion becomes even more pronounced under MAR. While both MAR_Missing and MAR_RegImputed still produce coefficients close to the full model, MAR_MeanImputed drops sharply to 0.127 for x1 and 0.169 for x2. This clearly illustrates that mean imputation fails to account for the systematic nature of MAR missingness, leading to substantial bias. In contrast, regression imputation under MAR closely matches the true values because it leverages observed predictors to model missing outcomes.\n",
    "\n",
    "In conclusion, the results provide strong empirical evidence that mean imputation is not a suitable method for handling missing data in statistical modeling. It introduces significant bias, particularly under MAR, and fails to preserve the underlying data structure. Regression-based imputation is a far more reliable approach, producing coefficients that are both accurate and consistent with the full dataset. These insights emphasize the importance of selecting imputation strategies grounded in the assumed missingness mechanism and statistical best practices."
   ]
  }
 ],
 "metadata": {
  "kernelspec": {
   "display_name": "Python 3 (ipykernel)",
   "language": "python",
   "name": "python3"
  },
  "language_info": {
   "codemirror_mode": {
    "name": "ipython",
    "version": 3
   },
   "file_extension": ".py",
   "mimetype": "text/x-python",
   "name": "python",
   "nbconvert_exporter": "python",
   "pygments_lexer": "ipython3",
   "version": "3.12.5"
  }
 },
 "nbformat": 4,
 "nbformat_minor": 5
}
